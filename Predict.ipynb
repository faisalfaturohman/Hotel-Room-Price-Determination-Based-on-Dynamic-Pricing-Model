{
 "cells": [
  {
   "cell_type": "code",
   "execution_count": 26,
   "metadata": {},
   "outputs": [
    {
     "name": "stdout",
     "output_type": "stream",
     "text": [
      "[423.]\n"
     ]
    }
   ],
   "source": [
    "import joblib\n",
    "import pandas as pd\n",
    "# load the model from disk\n",
    "loaded_model = joblib.load('model.pkl')\n",
    "\n",
    "df = pd.DataFrame({\n",
    "    'Lama_menginap': [10],\n",
    "    'Tanggal': [31],\n",
    "    'Bulan': [12],\n",
    "    'Tahun': [2021],\n",
    "    'Jenis Kamar': [3],\n",
    "    'Hari': [3],\n",
    "    'Demand': [1]})\n",
    "\n",
    "\n",
    "y_pred = loaded_model.predict(df)\n",
    "print(y_pred)"
   ]
  },
  {
   "cell_type": "code",
   "execution_count": null,
   "metadata": {},
   "outputs": [],
   "source": []
  }
 ],
 "metadata": {
  "kernelspec": {
   "display_name": "Python 3",
   "language": "python",
   "name": "python3"
  },
  "language_info": {
   "codemirror_mode": {
    "name": "ipython",
    "version": 3
   },
   "file_extension": ".py",
   "mimetype": "text/x-python",
   "name": "python",
   "nbconvert_exporter": "python",
   "pygments_lexer": "ipython3",
   "version": "3.7.9"
  }
 },
 "nbformat": 4,
 "nbformat_minor": 4
}
